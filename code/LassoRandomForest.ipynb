{
 "cells": [
  {
   "cell_type": "code",
   "execution_count": 1,
   "metadata": {},
   "outputs": [],
   "source": [
    "# Purpose: Perform LASSO Feature Selection, Generate Predictions\n",
    "# Inputs: train.csv as training data, mean-imputed data with Homelessness Indicators added\n",
    "# Outputs: Files with LASSO selected vars at a r^2 cutoff of 0.4 for each outcome, prediction file from Random Forest using these vars\n",
    "# Machine: 4-Core PC w/hyperthreading, ~10hrs "
   ]
  },
  {
   "cell_type": "code",
   "execution_count": 2,
   "metadata": {},
   "outputs": [],
   "source": [
    "# Used Packages\n",
    "import pandas as pd\n",
    "import numpy as np\n",
    "import matplotlib.pyplot as plt\n",
    "import seaborn as sns\n",
    "import warnings\n",
    "warnings.filterwarnings('ignore')\n",
    "from sklearn.ensemble import RandomForestRegressor\n",
    "from sklearn import linear_model\n",
    "%matplotlib inline\n"
   ]
  },
  {
   "cell_type": "code",
   "execution_count": 3,
   "metadata": {},
   "outputs": [],
   "source": [
    "# Random Seed\n",
    "np.random.seed(0)"
   ]
  },
  {
   "cell_type": "code",
   "execution_count": 4,
   "metadata": {},
   "outputs": [],
   "source": [
    "data_all = pd.read_csv('../output/data_mean_imputed_Homeless_added.csv', index_col = 'challengeID')\n",
    "outcomes = pd.read_csv('../data/train.csv',index_col='challengeID')"
   ]
  },
  {
   "cell_type": "code",
   "execution_count": 5,
   "metadata": {},
   "outputs": [
    {
     "data": {
      "text/plain": [
       "array(['gpa', 'grit', 'materialHardship', 'eviction', 'layoff',\n",
       "       'jobTraining'], dtype=object)"
      ]
     },
     "execution_count": 5,
     "metadata": {},
     "output_type": "execute_result"
    }
   ],
   "source": [
    "outcomes.columns.values"
   ]
  },
  {
   "cell_type": "markdown",
   "metadata": {},
   "source": [
    "## Lasso Feature Selection"
   ]
  },
  {
   "cell_type": "code",
   "execution_count": 6,
   "metadata": {},
   "outputs": [
    {
     "name": "stdout",
     "output_type": "stream",
     "text": [
      "\n",
      "\n",
      "gpa\n",
      "0.08858667904100823\n",
      "0.36725204782860543\n",
      "\n",
      "\n",
      "grit\n"
     ]
    },
    {
     "ename": "KeyboardInterrupt",
     "evalue": "",
     "output_type": "error",
     "traceback": [
      "\u001b[0;31m---------------------------------------------------------------------------\u001b[0m",
      "\u001b[0;31mKeyboardInterrupt\u001b[0m                         Traceback (most recent call last)",
      "\u001b[0;32m<ipython-input-6-27c3e59a6420>\u001b[0m in \u001b[0;36m<module>\u001b[0;34m()\u001b[0m\n\u001b[1;32m     15\u001b[0m \u001b[0;34m\u001b[0m\u001b[0m\n\u001b[1;32m     16\u001b[0m     \u001b[0mreg\u001b[0m \u001b[0;34m=\u001b[0m \u001b[0mlinear_model\u001b[0m\u001b[0;34m.\u001b[0m\u001b[0mLasso\u001b[0m\u001b[0;34m(\u001b[0m\u001b[0;34m)\u001b[0m\u001b[0;34m\u001b[0m\u001b[0m\n\u001b[0;32m---> 17\u001b[0;31m     \u001b[0mpath\u001b[0m \u001b[0;34m=\u001b[0m \u001b[0mreg\u001b[0m\u001b[0;34m.\u001b[0m\u001b[0mpath\u001b[0m\u001b[0;34m(\u001b[0m\u001b[0mx_all\u001b[0m\u001b[0;34m,\u001b[0m\u001b[0my\u001b[0m\u001b[0;34m,\u001b[0m \u001b[0malphas\u001b[0m \u001b[0;34m=\u001b[0m \u001b[0mAlphas\u001b[0m\u001b[0;34m)\u001b[0m\u001b[0;34m\u001b[0m\u001b[0m\n\u001b[0m\u001b[1;32m     18\u001b[0m     \u001b[0mn\u001b[0m \u001b[0;34m=\u001b[0m \u001b[0;34m[\u001b[0m\u001b[0mnp\u001b[0m\u001b[0;34m.\u001b[0m\u001b[0msum\u001b[0m\u001b[0;34m(\u001b[0m\u001b[0mpath\u001b[0m\u001b[0;34m[\u001b[0m\u001b[0;36m1\u001b[0m\u001b[0;34m]\u001b[0m\u001b[0;34m[\u001b[0m\u001b[0;34m:\u001b[0m\u001b[0;34m,\u001b[0m\u001b[0mn\u001b[0m\u001b[0;34m]\u001b[0m \u001b[0;34m!=\u001b[0m \u001b[0;36m0\u001b[0m\u001b[0;34m)\u001b[0m \u001b[0;32mfor\u001b[0m \u001b[0mn\u001b[0m \u001b[0;32min\u001b[0m \u001b[0mrange\u001b[0m\u001b[0;34m(\u001b[0m\u001b[0;36m0\u001b[0m\u001b[0;34m,\u001b[0m\u001b[0mlen\u001b[0m\u001b[0;34m(\u001b[0m\u001b[0mAlphas\u001b[0m\u001b[0;34m)\u001b[0m\u001b[0;34m)\u001b[0m\u001b[0;34m]\u001b[0m\u001b[0;34m\u001b[0m\u001b[0m\n\u001b[1;32m     19\u001b[0m     \u001b[0mr_2\u001b[0m\u001b[0;34m.\u001b[0m\u001b[0mreverse\u001b[0m\u001b[0;34m(\u001b[0m\u001b[0;34m)\u001b[0m\u001b[0;34m\u001b[0m\u001b[0m\n",
      "\u001b[0;32m/anaconda3/lib/python3.6/site-packages/sklearn/linear_model/coordinate_descent.py\u001b[0m in \u001b[0;36menet_path\u001b[0;34m(X, y, l1_ratio, eps, n_alphas, alphas, precompute, Xy, copy_X, coef_init, verbose, return_n_iter, positive, check_input, **params)\u001b[0m\n\u001b[1;32m    468\u001b[0m             model = cd_fast.enet_coordinate_descent(\n\u001b[1;32m    469\u001b[0m                 \u001b[0mcoef_\u001b[0m\u001b[0;34m,\u001b[0m \u001b[0ml1_reg\u001b[0m\u001b[0;34m,\u001b[0m \u001b[0ml2_reg\u001b[0m\u001b[0;34m,\u001b[0m \u001b[0mX\u001b[0m\u001b[0;34m,\u001b[0m \u001b[0my\u001b[0m\u001b[0;34m,\u001b[0m \u001b[0mmax_iter\u001b[0m\u001b[0;34m,\u001b[0m \u001b[0mtol\u001b[0m\u001b[0;34m,\u001b[0m \u001b[0mrng\u001b[0m\u001b[0;34m,\u001b[0m \u001b[0mrandom\u001b[0m\u001b[0;34m,\u001b[0m\u001b[0;34m\u001b[0m\u001b[0m\n\u001b[0;32m--> 470\u001b[0;31m                 positive)\n\u001b[0m\u001b[1;32m    471\u001b[0m         \u001b[0;32melse\u001b[0m\u001b[0;34m:\u001b[0m\u001b[0;34m\u001b[0m\u001b[0m\n\u001b[1;32m    472\u001b[0m             raise ValueError(\"Precompute should be one of True, False, \"\n",
      "\u001b[0;31mKeyboardInterrupt\u001b[0m: "
     ]
    }
   ],
   "source": [
    "Alphas = np.logspace(-4,3,10).tolist()\n",
    "\n",
    "for OUTCOME in outcomes.columns.values:\n",
    "    print(\"\\n\")\n",
    "    print(OUTCOME)\n",
    "\n",
    "    y = outcomes[OUTCOME]\n",
    "    y = y.dropna()\n",
    "    x_all = data_all.loc[(np.in1d(list(data_all.index),list(y.index))),:]\n",
    "    r_2 = []\n",
    "    for L in Alphas:\n",
    "        reg = linear_model.Lasso(alpha = L)\n",
    "        reg.fit(x_all,y)\n",
    "        r_2.append(reg.score(x_all,y))\n",
    "\n",
    "    reg = linear_model.Lasso()\n",
    "    path = reg.path(x_all,y, alphas = Alphas)\n",
    "    n = [np.sum(path[1][:,n] != 0) for n in range(0,len(Alphas))]\n",
    "    r_2.reverse()\n",
    "    Alphas.reverse()\n",
    "\n",
    "    temp = [abs(i-0.4) for i in r_2]\n",
    "    Alpha_O = Alphas[temp.index(min(temp))]\n",
    "    \n",
    "    print(Alpha_O)\n",
    "    print(r_2[temp.index(min(temp))])\n",
    "    \n",
    "    coeff = pd.DataFrame(path[1][:,temp.index(min(temp))],index = x_all.columns.values) \n",
    "    feature_index = coeff != 0\n",
    "    features = x_all.loc[:,feature_index.iloc[:,0]]\n",
    "    x_lars = data_all.loc[:,features.columns.values]\n",
    "    x_lars.to_csv('../output/LASSO/Lasso_Selected_Vars_'+OUTCOME+'.csv')"
   ]
  },
  {
   "cell_type": "markdown",
   "metadata": {},
   "source": [
    "## Final Prediction Loop"
   ]
  },
  {
   "cell_type": "code",
   "execution_count": null,
   "metadata": {},
   "outputs": [],
   "source": [
    "predictions = {'challengeID':np.array(list(data_all.index)),\n",
    "               'gpa':None,'grit':None,'materialHardship':None,'eviction':None,'layoff':None,'jobTraining':None} \n",
    "\n",
    "for OUTCOME in outcomes.columns.values:\n",
    "    \n",
    "    y_all = outcomes[OUTCOME]\n",
    "    y_all = y_all.dropna()\n",
    "    x_all = pd.read_csv(str('../output/LASSO/Lasso_Selected_Vars_'+OUTCOME+'.csv'),index_col = 'challengeID')\n",
    "    x_all = x_all.loc[np.in1d(x_all.index,y_all.index)]\n",
    "    \n",
    "    x_test_all = data_all.loc[:,np.in1d(data_all.columns.values,x_all.columns.values)]\n",
    "\n",
    "\n",
    "    if OUTCOME in ['eviction','layoff','jobTraining']:\n",
    "        N = 300\n",
    "        F = 25\n",
    "        D = 4\n",
    "        L = None\n",
    "        mod = RandomForestRegressor(n_estimators = N, max_features = F, max_depth = D)\n",
    "        mod = mod.fit(x_all,y_all)\n",
    "        pred_y = mod.predict(x_test_all)\n",
    "\n",
    "    else:\n",
    "        N = 300\n",
    "        F = 50\n",
    "        D = None\n",
    "        L = 5\n",
    "        mod = RandomForestRegressor(n_estimators = N, max_features = F, max_depth = D, min_samples_leaf = L)\n",
    "        mod = mod.fit(x_all,y_all)\n",
    "        pred_y = mod.predict(x_test_all)\n",
    "    \n",
    "    predictions[OUTCOME] = pred_y"
   ]
  },
  {
   "cell_type": "code",
   "execution_count": null,
   "metadata": {},
   "outputs": [],
   "source": [
    "pd.DataFrame(predictions).to_csv('../output/final_pred/lassoRF_prediction.csv', index = False)"
   ]
  }
 ],
 "metadata": {
  "kernelspec": {
   "display_name": "Python 3",
   "language": "python",
   "name": "python3"
  },
  "language_info": {
   "codemirror_mode": {
    "name": "ipython",
    "version": 3
   },
   "file_extension": ".py",
   "mimetype": "text/x-python",
   "name": "python",
   "nbconvert_exporter": "python",
   "pygments_lexer": "ipython3",
   "version": "3.6.5"
  }
 },
 "nbformat": 4,
 "nbformat_minor": 2
}
