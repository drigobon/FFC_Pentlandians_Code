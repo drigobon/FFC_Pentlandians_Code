{
 "cells": [
  {
   "cell_type": "code",
   "execution_count": null,
   "metadata": {
    "collapsed": true
   },
   "outputs": [],
   "source": [
    "# Purpose: Perform LASSO Feature Selection, Generate Predictions\n",
    "# Inputs: train.csv as training data, mean-imputed data with Homelessness Indicators added\n",
    "# Outputs: Files with LASSO selected vars at a r^2 cutoff of 0.4 for each outcome, prediction file from Random Forest using these vars\n",
    "# Machine: 4-Core PC w/hyperthreading, ~6hrs "
   ]
  },
  {
   "cell_type": "code",
   "execution_count": null,
   "metadata": {
    "collapsed": true
   },
   "outputs": [],
   "source": [
    "import pandas as pd\n",
    "import numpy as np\n",
    "import matplotlib.pyplot as plt\n",
    "import random\n",
    "import seaborn as sns\n",
    "\n",
    "from sklearn.ensemble import RandomForestRegressor\n",
    "from sklearn import linear_model\n",
    "%matplotlib inline\n"
   ]
  },
  {
   "cell_type": "code",
   "execution_count": null,
   "metadata": {
    "collapsed": true
   },
   "outputs": [],
   "source": [
    "data_all = pd.read_csv('../output/data_mean_imputed_Homeless_added.csv', index_col = 'challengeID')\n",
    "outcomes = pd.read_csv('../data/train.csv',index_col='challengeID')"
   ]
  },
  {
   "cell_type": "code",
   "execution_count": null,
   "metadata": {},
   "outputs": [],
   "source": [
    "outcomes.columns.values"
   ]
  },
  {
   "cell_type": "markdown",
   "metadata": {},
   "source": [
    "## Lasso Feature Selection"
   ]
  },
  {
   "cell_type": "code",
   "execution_count": null,
   "metadata": {
    "collapsed": true
   },
   "outputs": [],
   "source": [
    "Alphas = np.logspace(-3,2,50).tolist()\n",
    "\n",
    "for OUTCOME in outcomes.columns.values:\n",
    "    y = outcomes[OUTCOME]\n",
    "    y = y.dropna()\n",
    "    x_all = data_all.loc[(np.in1d(list(data_all.index),list(y.index))),:]\n",
    "    r_2 = []\n",
    "    for L in Alphas:\n",
    "        reg = linear_model.Lasso(alpha = L)\n",
    "        reg.fit(x_all,y)\n",
    "        r_2.append(reg.score(x_all,y))\n",
    "\n",
    "    reg = linear_model.Lasso()\n",
    "    path = reg.path(x_all,y, alphas = Alphas)\n",
    "    n = [np.sum(path[1][:,n] != 0) for n in range(0,len(Alphas))]\n",
    "    r_2.reverse()\n",
    "    Alphas.reverse()\n",
    "\n",
    "    temp = [abs(i-0.4) for i in r_2]\n",
    "\n",
    "    Alpha_O = Alphas[temp.index(min(temp))]\n",
    "    coeff = pd.DataFrame(path[1][:,temp.index(min(temp))],index = x_all.columns.values) \n",
    "    feature_index = coeff != 0\n",
    "    features = x_all.loc[:,feature_index.iloc[:,0]]\n",
    "    x_lars = data_all.loc[:,features.columns.values]\n",
    "    x_lars.to_csv('../output/LASSO/Lasso_Selected_Vars_'+OUTCOME+'.csv')"
   ]
  },
  {
   "cell_type": "markdown",
   "metadata": {},
   "source": [
    "## Final Prediction Loop"
   ]
  },
  {
   "cell_type": "code",
   "execution_count": null,
   "metadata": {
    "collapsed": true
   },
   "outputs": [],
   "source": [
    "predictions = {'challengeID':np.array(list(data_all.index)),\n",
    "               'gpa':None,'grit':None,'materialHardship':None,'eviction':None,'layoff':None,'jobTraining':None} \n",
    "\n",
    "for OUTCOME in outcomes.columns.values:\n",
    "    \n",
    "    y_all = outcomes[OUTCOME]\n",
    "    y_all = y_all.dropna()\n",
    "    x_all = pd.read_csv(str('../output/LASSO/Lasso_Selected_Vars_'+OUTCOME+'.csv'),index_col = 'challengeID')\n",
    "    x_all = x_all.loc[np.in1d(x_all.index,y_all.index)]\n",
    "    \n",
    "    x_test_all = data_all.loc[:,np.in1d(data_all.columns.values,x_all.columns.values)]\n",
    "\n",
    "\n",
    "    if OUTCOME in ['eviction','layoff','jobTraining']:\n",
    "        N = 300\n",
    "        F = 25\n",
    "        D = 4\n",
    "        L = None\n",
    "        mod = RandomForestRegressor(n_estimators = N, max_features = F, max_depth = D)\n",
    "        mod = mod.fit(x_all,y_all)\n",
    "        pred_y = mod.predict(x_test_all)\n",
    "\n",
    "    else:\n",
    "        N = 300\n",
    "        F = 50\n",
    "        D = None\n",
    "        L = 5\n",
    "        mod = RandomForestRegressor(n_estimators = N, max_features = F, max_depth = D, min_samples_leaf = L)\n",
    "        mod = mod.fit(x_all,y_all)\n",
    "        pred_y = mod.predict(x_test_all)\n",
    "    \n",
    "    predictions[OUTCOME] = pred_y\n",
    "    "
   ]
  },
  {
   "cell_type": "code",
   "execution_count": null,
   "metadata": {
    "collapsed": true
   },
   "outputs": [],
   "source": [
    "pd.DataFrame(predictions).to_csv('../output/final_pred/lassoRF_prediction.csv', index = False)"
   ]
  }
 ],
 "metadata": {
  "kernelspec": {
   "display_name": "Python 3",
   "language": "python",
   "name": "python3"
  },
  "language_info": {
   "codemirror_mode": {
    "name": "ipython",
    "version": 3
   },
   "file_extension": ".py",
   "mimetype": "text/x-python",
   "name": "python",
   "nbconvert_exporter": "python",
   "pygments_lexer": "ipython3",
   "version": "3.6.1"
  }
 },
 "nbformat": 4,
 "nbformat_minor": 2
}
