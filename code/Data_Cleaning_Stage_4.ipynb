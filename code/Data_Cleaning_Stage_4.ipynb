{
 "cells": [
  {
   "cell_type": "markdown",
   "metadata": {},
   "source": [
    "##Create indicative variables for homelessness\n",
    "based on \n",
    "http://fragilefamilies.princeton.edu/sites/fragilefamilies/files/researchbrief43.pdf (KAG)\n"
   ]
  },
  {
   "cell_type": "code",
   "execution_count": 1,
   "metadata": {
    "collapsed": true
   },
   "outputs": [],
   "source": [
    "# Purpose: Add indicative variables for homelessness based on http://fragilefamilies.princeton.edu/sites/fragilefamilies/files/researchbrief43.pdf\n",
    "# Inputs: raw background.csv file, data_mean_imputed.csv\n",
    "# Outputs: a single mean imputed df which includes the two features added by this file\n",
    "# Machine: Laptop, Runtime ~10 mins"
   ]
  },
  {
   "cell_type": "code",
   "execution_count": 2,
   "metadata": {
    "collapsed": true
   },
   "outputs": [],
   "source": [
    "# Used Packages\n",
    "import numpy as np\n",
    "import scipy.stats as sp\n",
    "import matplotlib.pyplot as plt\n",
    "import seaborn as sns\n",
    "import pandas as pd\n",
    "import glob\n",
    "import warnings\n",
    "warnings.filterwarnings('ignore')\n",
    "%matplotlib inline"
   ]
  },
  {
   "cell_type": "code",
   "execution_count": null,
   "metadata": {},
   "outputs": [],
   "source": [
    "# Random Seed\n",
    "np.random.seed(0)"
   ]
  },
  {
   "cell_type": "code",
   "execution_count": 3,
   "metadata": {
    "collapsed": true
   },
   "outputs": [],
   "source": [
    "df = pd.read_csv('../data/background.csv',index_col='challengeID')\n"
   ]
  },
  {
   "cell_type": "code",
   "execution_count": 4,
   "metadata": {},
   "outputs": [
    {
     "data": {
      "text/plain": [
       "(4242, 12942)"
      ]
     },
     "execution_count": 4,
     "metadata": {},
     "output_type": "execute_result"
    }
   ],
   "source": [
    "np.shape(df)"
   ]
  },
  {
   "cell_type": "code",
   "execution_count": 5,
   "metadata": {
    "collapsed": true
   },
   "outputs": [],
   "source": [
    "def combine_boolean_variables(variables, weights):\n",
    "# combines the variables. True gets 1, anything else gets zero. \n",
    "\n",
    "#First extract the interesting varialbes into a dataframe.\n",
    "    df_out  = df[variables]\n",
    "# Anything that is not True (or 1), set to zero. \n",
    "    df_out[df_out != 1]= 0\n",
    "#loop over the variables and apply the weight\n",
    "    for i in range(len(variables)):\n",
    "        variable, weight = (variables[i], weights[i])\n",
    "        df_out[variable] *= weight\n",
    "#Now add the weighted variables together\n",
    "    return df_out.sum(axis=1)\n",
    "\n",
    "                   \n",
    "                   "
   ]
  },
  {
   "cell_type": "markdown",
   "metadata": {},
   "source": [
    "Mother receives welfare"
   ]
  },
  {
   "cell_type": "code",
   "execution_count": 6,
   "metadata": {
    "collapsed": true
   },
   "outputs": [],
   "source": [
    "# Now construct mother receives welfare. Give more weight to the last wave (3), \n",
    "# and equal weight to the previous waves.\n",
    "\n",
    "cmw = combine_boolean_variables( ['m2h10a', 'm3i8a1', 'm4i10', 'm5f10' ],[1,1,1,3] )"
   ]
  },
  {
   "cell_type": "code",
   "execution_count": 7,
   "metadata": {
    "collapsed": true
   },
   "outputs": [],
   "source": [
    "# Now construct mother resies in pulbic housing. Give more weight to the last wave (3), \n",
    "# and equal weight to the previous waves.\n",
    "\n",
    "cph = combine_boolean_variables(  ['m1f3', 'm2h5', 'm3i5', 'm4i5', 'm5f5' ],[1,1,1,1,3]  )\n"
   ]
  },
  {
   "cell_type": "code",
   "execution_count": 8,
   "metadata": {
    "collapsed": true
   },
   "outputs": [],
   "source": [
    "# Now construct mother is living with father. Give more weight to the last wave (3), \n",
    "# and equal weight to the previous waves.\n",
    "\n",
    "clf = combine_boolean_variables(['m1b20', 'm2l3', 'm2l10', 'm3a4a1', 'm4a4a1' ], [1, 1, 1, 1, 3])\n",
    "\n"
   ]
  },
  {
   "cell_type": "code",
   "execution_count": 9,
   "metadata": {
    "collapsed": true
   },
   "outputs": [],
   "source": [
    "# Now construct mother is Black or hispanic. Weight of 3 . \n",
    "\n",
    "df_bh = df['cm1ethrace']\n",
    "# zero any value that is not black (2), or hispanic (3)\n",
    "df_bh[ (df_bh !=2) & (df_bh !=3)] = 0\n",
    "\n",
    "df_bh *= 3\n",
    "\n"
   ]
  },
  {
   "cell_type": "code",
   "execution_count": 10,
   "metadata": {},
   "outputs": [
    {
     "data": {
      "image/png": "[encoded data removed]",
      "text/plain": [
       "<matplotlib.figure.Figure at 0x1179c35c0>"
      ]
     },
     "metadata": {},
     "output_type": "display_data"
    }
   ],
   "source": [
    "#Now construct number of kids in household. \n",
    "# 3 if more than 2 kids \n",
    "\n",
    "df_num_kids = df['cm4kids']\n",
    "df_num_kids.hist()\n",
    "df_num_kids[ df_num_kids <= 2] = 0\n",
    "df_num_kids[ df_num_kids > 2] = 3\n",
    "\n"
   ]
  },
  {
   "cell_type": "code",
   "execution_count": 11,
   "metadata": {},
   "outputs": [
    {
     "name": "stdout",
     "output_type": "stream",
     "text": [
      "(4242,) (4242,) (4242,) (4242,) (4242,)\n"
     ]
    }
   ],
   "source": [
    "print(cmw.shape, cph.shape, clf.shape, df_bh.shape, df_num_kids.shape)"
   ]
  },
  {
   "cell_type": "code",
   "execution_count": 12,
   "metadata": {
    "collapsed": true,
    "scrolled": true
   },
   "outputs": [],
   "source": [
    "homeless_ind_neg = cmw + cph + clf + df_bh + df_num_kids\n",
    "\n"
   ]
  },
  {
   "cell_type": "code",
   "execution_count": 13,
   "metadata": {},
   "outputs": [
    {
     "data": {
      "text/plain": [
       "<matplotlib.axes._subplots.AxesSubplot at 0x1179c3be0>"
      ]
     },
     "execution_count": 13,
     "metadata": {},
     "output_type": "execute_result"
    },
    {
     "data": {
      "image/png": "[encoded data removed]",
      "text/plain": [
       "<matplotlib.figure.Figure at 0x1087cf898>"
      ]
     },
     "metadata": {},
     "output_type": "display_data"
    }
   ],
   "source": [
    "homeless_ind_neg.hist()"
   ]
  },
  {
   "cell_type": "markdown",
   "metadata": {},
   "source": [
    "Now calcualte the factors affecting homelssness positvely"
   ]
  },
  {
   "cell_type": "code",
   "execution_count": 14,
   "metadata": {
    "collapsed": true
   },
   "outputs": [],
   "source": [
    "# Mother more than 5 years in the same negiberhood\n",
    "df_yrs_nghd = df['m1f1a']\n",
    "df_yrs_nghd[df_yrs_nghd<5] = 0\n",
    "df_yrs_nghd[df_yrs_nghd>=5] = 1\n"
   ]
  },
  {
   "cell_type": "code",
   "execution_count": 15,
   "metadata": {},
   "outputs": [
    {
     "data": {
      "text/plain": [
       "<matplotlib.axes._subplots.AxesSubplot at 0x119409278>"
      ]
     },
     "execution_count": 15,
     "metadata": {},
     "output_type": "execute_result"
    },
    {
     "data": {
      "image/png": "[encoded data removed]",
      "text/plain": [
       "<matplotlib.figure.Figure at 0x109f5aba8>"
      ]
     },
     "metadata": {},
     "output_type": "display_data"
    }
   ],
   "source": [
    "# Mother family/friends are willing to help\n",
    "df_wh = df['m5f23g']\n",
    "df_wh[ df_wh != 1] =0\n",
    "df_wh.hist()"
   ]
  },
  {
   "cell_type": "code",
   "execution_count": 16,
   "metadata": {},
   "outputs": [
    {
     "data": {
      "text/plain": [
       "<matplotlib.axes._subplots.AxesSubplot at 0x11f25c860>"
      ]
     },
     "execution_count": 16,
     "metadata": {},
     "output_type": "execute_result"
    },
    {
     "data": {
      "image/png": "[encoded data removed]",
      "text/plain": [
       "<matplotlib.figure.Figure at 0x1087cfb00>"
      ]
     },
     "metadata": {},
     "output_type": "display_data"
    }
   ],
   "source": [
    "#numer of moves between birts and 1 year\n",
    "df_nm = df['m2h1a']\n",
    "#df_nm.hist()\n",
    "df_nm[df_nm<1] = 0\n",
    "df_nm[df_nm >=1] =1\n",
    "df_nm.hist()\n",
    "#df_nm.hist()"
   ]
  },
  {
   "cell_type": "code",
   "execution_count": 17,
   "metadata": {
    "collapsed": true
   },
   "outputs": [],
   "source": [
    "homeless_ind_pos = df_yrs_nghd + df_wh +df_nm"
   ]
  },
  {
   "cell_type": "code",
   "execution_count": 18,
   "metadata": {},
   "outputs": [
    {
     "data": {
      "text/plain": [
       "<matplotlib.axes._subplots.AxesSubplot at 0x11b0614a8>"
      ]
     },
     "execution_count": 18,
     "metadata": {},
     "output_type": "execute_result"
    },
    {
     "data": {
      "image/png": "[encoded data removed]",
      "text/plain": [
       "<matplotlib.figure.Figure at 0x11533b0f0>"
      ]
     },
     "metadata": {},
     "output_type": "display_data"
    }
   ],
   "source": [
    "homeless_ind_pos.hist()"
   ]
  },
  {
   "cell_type": "markdown",
   "metadata": {},
   "source": [
    "Now write the two features to the imputed clean data.\n"
   ]
  },
  {
   "cell_type": "code",
   "execution_count": 19,
   "metadata": {
    "collapsed": true
   },
   "outputs": [],
   "source": [
    "df_cleaned = pd.read_csv('../output/data_mean_imputed.csv',index_col='challengeID')"
   ]
  },
  {
   "cell_type": "code",
   "execution_count": 21,
   "metadata": {},
   "outputs": [
    {
     "data": {
      "text/plain": [
       "(4242, 24864)"
      ]
     },
     "execution_count": 21,
     "metadata": {},
     "output_type": "execute_result"
    }
   ],
   "source": [
    "np.shape(df_cleaned)"
   ]
  },
  {
   "cell_type": "code",
   "execution_count": 22,
   "metadata": {
    "collapsed": true
   },
   "outputs": [],
   "source": [
    "df_cleaned[\"homeless_ind_neg\"] = homeless_ind_neg\n",
    "df_cleaned[\"homeless_ind_pos\"] = homeless_ind_pos"
   ]
  },
  {
   "cell_type": "code",
   "execution_count": 23,
   "metadata": {},
   "outputs": [
    {
     "data": {
      "text/plain": [
       "(4242, 24866)"
      ]
     },
     "execution_count": 23,
     "metadata": {},
     "output_type": "execute_result"
    }
   ],
   "source": [
    "np.shape(df_cleaned)"
   ]
  },
  {
   "cell_type": "code",
   "execution_count": 24,
   "metadata": {
    "collapsed": true
   },
   "outputs": [],
   "source": [
    "df_cleaned.to_csv('../output/data_mean_imputed_Homeless_added.csv',index_label='challengeID')"
   ]
  }
 ],
 "metadata": {
  "kernelspec": {
   "display_name": "Python 3",
   "language": "python",
   "name": "python3"
  },
  "language_info": {
   "codemirror_mode": {
    "name": "ipython",
    "version": 3
   },
   "file_extension": ".py",
   "mimetype": "text/x-python",
   "name": "python",
   "nbconvert_exporter": "python",
   "pygments_lexer": "ipython3",
   "version": "3.6.5"
  }
 },
 "nbformat": 4,
 "nbformat_minor": 2
}
