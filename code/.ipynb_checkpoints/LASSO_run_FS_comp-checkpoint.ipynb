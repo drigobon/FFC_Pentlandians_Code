{
 "cells": [
  {
   "cell_type": "code",
   "execution_count": null,
   "metadata": {
    "collapsed": true
   },
   "outputs": [],
   "source": [
    "# Purpose: Generate LASSO-selected Vars at various r^2 cutoffs to compare with MI Features Selected\n",
    "# Inputs: mean-imputed data with Homelessness Indicators added\n",
    "# Outputs: Joined features for each r^2 cutoff specified, selected by outcome, aggregated without duplicates\n",
    "# Machine: 4-core PC, ~10/12 hrs"
   ]
  },
  {
   "cell_type": "code",
   "execution_count": null,
   "metadata": {
    "collapsed": true
   },
   "outputs": [],
   "source": [
    "import pandas as pd\n",
    "import numpy as np\n",
    "import matplotlib.pyplot as plt\n",
    "import random\n",
    "import seaborn as sns\n",
    "\n",
    "from sklearn.ensemble import RandomForestRegressor\n",
    "from sklearn import linear_model\n",
    "%matplotlib inline\n"
   ]
  },
  {
   "cell_type": "code",
   "execution_count": null,
   "metadata": {
    "collapsed": true
   },
   "outputs": [],
   "source": [
    "#data_all = pd.read_csv('data_mean_imputed.csv',index_col='challengeID')\n",
    "data_all = pd.read_csv('../output/data_mean_imputed_Homeless_added.csv', index_col = 'challengeID')\n",
    "outcomes = pd.read_csv('../data/train.csv',index_col='challengeID')\n",
    "feature_names = pd.read_csv('../output/features_cleaned_stage2.csv')"
   ]
  },
  {
   "cell_type": "code",
   "execution_count": null,
   "metadata": {
    "scrolled": true
   },
   "outputs": [],
   "source": [
    "np.shape(data_all)"
   ]
  },
  {
   "cell_type": "markdown",
   "metadata": {},
   "source": [
    "## Lasso Feature Selection"
   ]
  },
  {
   "cell_type": "code",
   "execution_count": null,
   "metadata": {},
   "outputs": [],
   "source": [
    "for R2_TARGET in [0.1,0.2,0.3,0.4,0.5,0.6,0.7,0.8,0.9]:\n",
    "    Alphas = np.logspace(-3,2,50).tolist()\n",
    "    vars_OC = []\n",
    "\n",
    "    for OUTCOME in outcomes.columns.values:\n",
    "        y = outcomes[OUTCOME]\n",
    "        y = y.dropna()\n",
    "        x_all = data_all.loc[(np.in1d(list(data_all.index),list(y.index))),:]\n",
    "        r_2 = []\n",
    "        for L in Alphas:\n",
    "            reg = linear_model.Lasso(alpha = L)\n",
    "            reg.fit(x_all,y)\n",
    "            r_2.append(reg.score(x_all,y))\n",
    "\n",
    "        reg = linear_model.Lasso()\n",
    "        path = reg.path(x_all,y, alphas = Alphas)\n",
    "        n = [np.sum(path[1][:,n] != 0) for n in range(0,len(Alphas))]\n",
    "        r_2.reverse()\n",
    "        Alphas.reverse()\n",
    "\n",
    "        temp = [abs(i-R2_TARGET) for i in r_2]\n",
    "\n",
    "        Alpha_O = Alphas[temp.index(min(temp))]\n",
    "        coeff = pd.DataFrame(path[1][:,temp.index(min(temp))],index = x_all.columns.values) \n",
    "        feature_index = coeff != 0\n",
    "        features = x_all.loc[:,feature_index.iloc[:,0]]\n",
    "        x_lars = features.columns.values\n",
    "\n",
    "        vars_OC.extend(x_lars)\n",
    "\n",
    "\n",
    "    vars_UNIQUE = data_all.loc[:,np.unique(vars_OC)]\n",
    "    vars_UNIQUE.to_csv(('../output/LASSO_ALL/Lasso_'+str(R2_TARGET)+'_Vars.csv'))\n",
    "    "
   ]
  }
 ],
 "metadata": {
  "kernelspec": {
   "display_name": "Python 3",
   "language": "python",
   "name": "python3"
  },
  "language_info": {
   "codemirror_mode": {
    "name": "ipython",
    "version": 3
   },
   "file_extension": ".py",
   "mimetype": "text/x-python",
   "name": "python",
   "nbconvert_exporter": "python",
   "pygments_lexer": "ipython3",
   "version": "3.6.1"
  }
 },
 "nbformat": 4,
 "nbformat_minor": 2
}
