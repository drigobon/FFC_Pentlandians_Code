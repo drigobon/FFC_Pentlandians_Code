{
 "cells": [
  {
   "cell_type": "code",
   "execution_count": null,
   "metadata": {
    "collapsed": true
   },
   "outputs": [],
   "source": [
    "# Purpose: Remove features with low standard deviation (<0.05) or high percentage missing (>80%)\n",
    "# Inputs: raw background.csv file\n",
    "# Outputs: two near-identical df's with fewer features, one has NA's, the other has Missing Codes preserved\n",
    "# Machine: Laptop, Runtime ~30-40 mins\n"
   ]
  },
  {
   "cell_type": "code",
   "execution_count": null,
   "metadata": {
    "collapsed": true
   },
   "outputs": [],
   "source": [
    "import numpy as np\n",
    "import scipy.stats as sp\n",
    "import matplotlib.pyplot as plt\n",
    "import seaborn as sns\n",
    "import pandas as pd\n",
    "import glob\n",
    "import warnings\n",
    "warnings.filterwarnings('ignore')\n",
    "%matplotlib inline"
   ]
  },
  {
   "cell_type": "code",
   "execution_count": null,
   "metadata": {},
   "outputs": [],
   "source": [
    "df = pd.read_csv('../data/background.csv',index_col=\"challengeID\")\n",
    "variables = df.columns\n",
    "df[df < 0] = np.nan\n",
    "n_col = len(df.columns)\n",
    "n_rows = len(df)\n",
    "n_col"
   ]
  },
  {
   "cell_type": "code",
   "execution_count": null,
   "metadata": {},
   "outputs": [],
   "source": [
    "##generally, remove all data has no variance or have more than 80 percent missing data\n",
    "count = 0\n",
    "zero_variance_col = []\n",
    "badly_missing = []\n",
    "exceptions = []\n",
    "potential_identifier = []\n",
    "for x in variables:\n",
    "    try:\n",
    "        count+=1\n",
    "        if count == 1000:\n",
    "            print(count)\n",
    "            count=0\n",
    "        if x == 'challengeID':\n",
    "            continue    \n",
    "        ##remove if there is no standard deviation or missing more than 80% of the data\n",
    "        unique_values = len(df[x].unique())\n",
    "        if unique_values ==1: #no variance -- extereme case that captures also strings\n",
    "            df.drop(x, axis=1, inplace=True)\n",
    "            zero_variance_col.append(x)\n",
    "        elif unique_values > n_rows-200: #potential identifiers\n",
    "            df.drop(x, axis=1, inplace=True)\n",
    "            potential_identifier.append(x)\n",
    "        elif sum(pd.isnull(df[x])) > n_rows*0.8:\n",
    "            df.drop(x, axis=1, inplace=True)\n",
    "            badly_missing.append(x)\n",
    "        elif df[x].std(skipna=True) < 0.05:\n",
    "            df.drop(x, axis=1, inplace=True)\n",
    "            zero_variance_col.append(x)\n",
    "    except Exception as ex:\n",
    "        exceptions.append(x)\n",
    "        print('in feature:',x)\n",
    "        print(ex)\n",
    "        print('###')\n",
    "len(df.columns)"
   ]
  },
  {
   "cell_type": "code",
   "execution_count": null,
   "metadata": {
    "collapsed": true
   },
   "outputs": [],
   "source": [
    "df.to_csv('../output/data_cleaned_stage1_withNans.csv',index_label='challengeID')"
   ]
  },
  {
   "cell_type": "code",
   "execution_count": null,
   "metadata": {
    "collapsed": true
   },
   "outputs": [],
   "source": [
    "potential_identifier"
   ]
  },
  {
   "cell_type": "code",
   "execution_count": null,
   "metadata": {
    "collapsed": true
   },
   "outputs": [],
   "source": [
    "subfields = list(df.columns)\n",
    "subfields.append('challengeID')\n",
    "df1 = pd.read_csv('../data/background.csv',index_col=\"challengeID\",usecols=subfields)\n",
    "df1.to_csv('../output/data_cleaned_stage1_withMissingCodes.csv',index_label='challengeID')"
   ]
  }
 ],
 "metadata": {
  "kernelspec": {
   "display_name": "Python 3",
   "language": "python",
   "name": "python3"
  },
  "language_info": {
   "codemirror_mode": {
    "name": "ipython",
    "version": 3
   },
   "file_extension": ".py",
   "mimetype": "text/x-python",
   "name": "python",
   "nbconvert_exporter": "python",
   "pygments_lexer": "ipython3",
   "version": "3.6.1"
  }
 },
 "nbformat": 4,
 "nbformat_minor": 2
}
