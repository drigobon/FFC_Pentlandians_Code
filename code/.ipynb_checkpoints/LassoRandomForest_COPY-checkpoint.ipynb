{
 "cells": [
  {
   "cell_type": "code",
   "execution_count": null,
   "metadata": {
    "collapsed": true
   },
   "outputs": [],
   "source": [
    "# Purpose: Perform LASSO Feature Selection, Generate Predictions\n",
    "# Inputs: train.csv as training data, mean-imputed data with Homelessness Indicators added\n",
    "# Outputs: Files with LASSO selected vars at a r^2 cutoff of 0.4 for each outcome, prediction file from Random Forest using these vars\n",
    "# Machine: 4-Core PC w/hyperthreading, ~10hrs "
   ]
  },
  {
   "cell_type": "code",
   "execution_count": 1,
   "metadata": {
    "collapsed": true
   },
   "outputs": [],
   "source": [
    "import pandas as pd\n",
    "import numpy as np\n",
    "import matplotlib.pyplot as plt\n",
    "import random\n",
    "import seaborn as sns\n",
    "\n",
    "from sklearn.ensemble import RandomForestRegressor\n",
    "from sklearn import linear_model\n",
    "%matplotlib inline\n"
   ]
  },
  {
   "cell_type": "code",
   "execution_count": 2,
   "metadata": {
    "collapsed": true
   },
   "outputs": [],
   "source": [
    "data_all = pd.read_csv('../output/data_mean_imputed_Homeless_added.csv', index_col = 'challengeID')\n",
    "outcomes = pd.read_csv('../data/train.csv',index_col='challengeID')"
   ]
  },
  {
   "cell_type": "markdown",
   "metadata": {},
   "source": [
    "## Final Prediction Loop"
   ]
  },
  {
   "cell_type": "code",
   "execution_count": null,
   "metadata": {
    "collapsed": true
   },
   "outputs": [],
   "source": [
    "predictions = {'challengeID':np.array(list(data_all.index)),\n",
    "               'gpa':None,'grit':None,'materialHardship':None,'eviction':None,'layoff':None,'jobTraining':None} \n",
    "\n",
    "for OUTCOME in outcomes.columns.values:\n",
    "    \n",
    "    y_all = outcomes[OUTCOME]\n",
    "    y_all = y_all.dropna()\n",
    "    x_all = pd.read_csv(str('../output/LASSO/Lasso_Selected_Vars_'+OUTCOME+'.csv'),index_col = 'challengeID')\n",
    "    x_all = x_all.loc[np.in1d(x_all.index,y_all.index)]\n",
    "    \n",
    "    x_test_all = data_all.loc[:,np.in1d(data_all.columns.values,x_all.columns.values)]\n",
    "\n",
    "\n",
    "    if OUTCOME in ['eviction','layoff','jobTraining']:\n",
    "        N = 300\n",
    "        F = 25\n",
    "        D = 4\n",
    "        L = None\n",
    "        mod = RandomForestRegressor(n_estimators = N, max_features = F, max_depth = D)\n",
    "        mod = mod.fit(x_all,y_all)\n",
    "        pred_y = mod.predict(x_test_all)\n",
    "\n",
    "    else:\n",
    "        N = 300\n",
    "        F = 80\n",
    "        D = None\n",
    "        L = 5\n",
    "        mod = RandomForestRegressor(n_estimators = N, max_features = F, max_depth = D, min_samples_leaf = L)\n",
    "        mod = mod.fit(x_all,y_all)\n",
    "        pred_y = mod.predict(x_test_all)\n",
    "    \n",
    "    predictions[OC] = pred_y\n",
    "    "
   ]
  },
  {
   "cell_type": "code",
   "execution_count": null,
   "metadata": {
    "collapsed": true
   },
   "outputs": [],
   "source": [
    "predictions.to_csv('../output/final_pred/lassoRF_prediction.csv', index = False)"
   ]
  }
 ],
 "metadata": {
  "kernelspec": {
   "display_name": "Python 3",
   "language": "python",
   "name": "python3"
  },
  "language_info": {
   "codemirror_mode": {
    "name": "ipython",
    "version": 3
   },
   "file_extension": ".py",
   "mimetype": "text/x-python",
   "name": "python",
   "nbconvert_exporter": "python",
   "pygments_lexer": "ipython3",
   "version": "3.6.1"
  }
 },
 "nbformat": 4,
 "nbformat_minor": 2
}
