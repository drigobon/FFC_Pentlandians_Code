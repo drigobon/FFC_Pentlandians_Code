{
 "cells": [
  {
   "cell_type": "code",
   "execution_count": null,
   "metadata": {
    "collapsed": true
   },
   "outputs": [],
   "source": [
    "# Purpose: Compare Features Selected by LASSO, MI according to Jaccard Coefficient\n",
    "# Inputs: LASSO-selected vars, aggregated accross outcome, for various R^2 cutoffs, MI-selected vars for various K\n",
    "# Outputs: Heatmap showing Jaccard Coefficient for diff combinations of LASSO/MI files\n",
    "# Machine: 4-core PC, ~2 hrs"
   ]
  },
  {
   "cell_type": "code",
   "execution_count": null,
   "metadata": {
    "collapsed": true
   },
   "outputs": [],
   "source": [
    "import pandas as pd\n",
    "import numpy as np\n",
    "import seaborn as sns\n",
    "import matplotlib.pyplot as plt\n",
    "import astropy.stats as AS\n",
    "from scipy.stats.stats import pearsonr \n",
    "from os import listdir\n",
    "import seaborn as sns\n",
    "\n",
    "%matplotlib inline\n",
    "\n"
   ]
  },
  {
   "cell_type": "code",
   "execution_count": null,
   "metadata": {},
   "outputs": [],
   "source": [
    "LASSO_files = listdir('../output/LASSO_ALL/')\n",
    "MI_files = ['data_univariate_feature_selection_5.csv','data_univariate_feature_selection_15.csv','data_univariate_feature_selection_50.csv','data_univariate_feature_selection_100.csv','data_univariate_feature_selection_200.csv','data_univariate_feature_selection_300.csv','data_univariate_feature_selection_500.csv','data_univariate_feature_selection_700.csv','data_univariate_feature_selection_1000.csv','data_univariate_feature_selection_1500.csv','data_univariate_feature_selection_2000.csv','data_univariate_feature_selection_3000.csv','data_univariate_feature_selection_4000.csv']"
   ]
  },
  {
   "cell_type": "code",
   "execution_count": null,
   "metadata": {
    "collapsed": true
   },
   "outputs": [],
   "source": [
    "LASSO_files = np.sort(LASSO_files)\n"
   ]
  },
  {
   "cell_type": "code",
   "execution_count": null,
   "metadata": {
    "scrolled": false
   },
   "outputs": [],
   "source": [
    "perc_similar = np.zeros((len(LASSO_files),len(MI_files)))\n",
    "L_names = []\n",
    "MI_names = []\n",
    "\n",
    "for i,L_file in enumerate(LASSO_files):\n",
    "    temp_L = pd.read_csv(('../output/LASSO_ALL/'+L_file)).columns.values\n",
    "    L_names.append(np.shape(temp_L)[0])\n",
    "\n",
    "    for j,MI_file in enumerate(MI_files):\n",
    "        temp_M = pd.read_csv(('../output/MI/'+MI_file)).columns.values\n",
    "        MI_names.append(np.shape(temp_M)[0])\n",
    "        \n",
    "        perc_similar[i,j]= sum(np.in1d(temp_L,temp_M))\n",
    "        \n",
    "        "
   ]
  },
  {
   "cell_type": "code",
   "execution_count": null,
   "metadata": {},
   "outputs": [],
   "source": [
    "data_named = pd.DataFrame(perc_similar,index = L_names, columns = np.unique(MI_names))\n",
    "columns = data_named.columns.tolist()\n",
    "columns = columns[::-1]\n",
    "data_named = data_named[columns]\n",
    "\n",
    "f, ax = plt.subplots(nrows=1, ncols=1, figsize=(15, 15), sharex=True)\n",
    "sns.heatmap(data_named, annot = True)\n",
    "plt.savefig('../output/fig/feature_heatmap.png')\n"
   ]
  }
 ],
 "metadata": {
  "kernelspec": {
   "display_name": "Python 3",
   "language": "python",
   "name": "python3"
  },
  "language_info": {
   "codemirror_mode": {
    "name": "ipython",
    "version": 3
   },
   "file_extension": ".py",
   "mimetype": "text/x-python",
   "name": "python",
   "nbconvert_exporter": "python",
   "pygments_lexer": "ipython3",
   "version": "3.6.1"
  }
 },
 "nbformat": 4,
 "nbformat_minor": 2
}
